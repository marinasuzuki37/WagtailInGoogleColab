{
  "cells": [
    {
      "cell_type": "markdown",
      "metadata": {
        "id": "view-in-github",
        "colab_type": "text"
      },
      "source": [
        "<a href=\"https://colab.research.google.com/github/marinasuzuki37/WagtailInGoogleColab/blob/main/wagtail.ipynb\" target=\"_parent\"><img src=\"https://colab.research.google.com/assets/colab-badge.svg\" alt=\"Open In Colab\"/></a>"
      ]
    },
    {
      "cell_type": "markdown",
      "source": [
        "### Python製CMSのwagtailをGoogleColab上で動かすデモ\n",
        "OSおよび環境間の互換性は完全無視です。予めご了承ください。"
      ],
      "metadata": {
        "id": "jtZFsWbKdSJf"
      }
    },
    {
      "cell_type": "code",
      "execution_count": null,
      "metadata": {
        "id": "hUzC0pO0kQiD"
      },
      "outputs": [],
      "source": [
        "#ダウンローダーのaria2をインストール\n",
        "! apt install aria2"
      ]
    },
    {
      "cell_type": "code",
      "source": [
        "#トンネリング用のcloudflareをダウンロードしてインストール\n",
        "! aria2c https://github.com/cloudflare/cloudflared/releases/latest/download/cloudflared-linux-amd64.deb\n",
        "! dpkg -i cloudflared-linux-amd64.deb"
      ],
      "metadata": {
        "id": "mSwVe7VJef2P"
      },
      "execution_count": null,
      "outputs": []
    },
    {
      "cell_type": "code",
      "execution_count": null,
      "metadata": {
        "id": "etCw4RNiTJOS"
      },
      "outputs": [],
      "source": [
        "#wagtail本体と必要なモジュールをインストール\n",
        "! pip install wagtail"
      ]
    },
    {
      "cell_type": "code",
      "execution_count": null,
      "metadata": {
        "id": "XAzJ9B04T1j5"
      },
      "outputs": [],
      "source": [
        "# Wagtailプロジェクトmysiteを作成する\n",
        "! mkdir /content/mysite\n",
        "! wagtail start mysite mysite"
      ]
    },
    {
      "cell_type": "code",
      "execution_count": null,
      "metadata": {
        "id": "gWQK6ZTbUeFV"
      },
      "outputs": [],
      "source": [
        "# wagtailの実行に必要なパッケージをまとめてインストール\n",
        "! cd mysite && pip install -r requirements.txt"
      ]
    },
    {
      "cell_type": "code",
      "execution_count": null,
      "metadata": {
        "id": "lhixtq78U3N9"
      },
      "outputs": [],
      "source": [
        "#sqliteデータベースを作成する\n",
        "! cd mysite && python manage.py migrate"
      ]
    },
    {
      "cell_type": "code",
      "execution_count": 7,
      "metadata": {
        "id": "DmL5g6NEhjli"
      },
      "outputs": [],
      "source": [
        "! cd mysite && python manage.py shell -c \"from django.contrib.auth.models import User; User.objects.create_superuser('admin', 'admin@example.com', 'adminpass')\""
      ]
    },
    {
      "cell_type": "code",
      "execution_count": null,
      "metadata": {
        "id": "1SrvrlGtjH9k"
      },
      "outputs": [],
      "source": [
        "#wagtailを起動しcloudflareでトンネリングを開始する\n",
        "! cd mysite && python manage.py runserver & cloudflared tunnel --url localhost:8000"
      ]
    }
  ],
  "metadata": {
    "colab": {
      "provenance": [],
      "authorship_tag": "ABX9TyMSnLA51MarlZRB9SJkaehG",
      "include_colab_link": true
    },
    "kernelspec": {
      "display_name": "Python 3",
      "name": "python3"
    },
    "language_info": {
      "name": "python"
    }
  },
  "nbformat": 4,
  "nbformat_minor": 0
}